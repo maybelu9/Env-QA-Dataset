{
 "cells": [
  {
   "cell_type": "code",
   "execution_count": 1,
   "id": "3077e102",
   "metadata": {
    "ExecuteTime": {
     "end_time": "2022-07-22T03:10:48.637175Z",
     "start_time": "2022-07-22T03:10:45.646727Z"
    }
   },
   "outputs": [],
   "source": [
    "import envqa_dataset\n",
    "import torch"
   ]
  },
  {
   "cell_type": "markdown",
   "id": "22b0609d",
   "metadata": {},
   "source": [
    "### Load Dataset\n",
    "#### Put env_qa_objects.h5 and env_qa_frame_obj_cls.h5 under data/ folder\n",
    "#### See get_video_feature() function in VQAFeatureDataset for get video features"
   ]
  },
  {
   "cell_type": "code",
   "execution_count": 2,
   "id": "6a28e7eb",
   "metadata": {
    "ExecuteTime": {
     "end_time": "2022-07-22T03:10:48.805488Z",
     "start_time": "2022-07-22T03:10:48.797273Z"
    }
   },
   "outputs": [],
   "source": [
    "batch_size = 30"
   ]
  },
  {
   "cell_type": "code",
   "execution_count": 3,
   "id": "f26e71d5",
   "metadata": {
    "ExecuteTime": {
     "end_time": "2022-07-22T03:10:51.002612Z",
     "start_time": "2022-07-22T03:10:50.907623Z"
    }
   },
   "outputs": [],
   "source": [
    "questions = json.load(open(\"data/train_full_question.json\"))"
   ]
  },
  {
   "cell_type": "code",
   "execution_count": 5,
   "id": "85996166",
   "metadata": {
    "ExecuteTime": {
     "end_time": "2022-07-22T03:14:44.708634Z",
     "start_time": "2022-07-22T03:11:55.480705Z"
    }
   },
   "outputs": [
    {
     "name": "stdout",
     "output_type": "stream",
     "text": [
      "loading existing dictionaries from data/dictionaries.pkl\n",
      "loading image features from env_qa_objects.h5 h5 file\n",
      "data/env_qa_frame_obj_cls.h5\n",
      "encode object name to word\n"
     ]
    },
    {
     "name": "stderr",
     "output_type": "stream",
     "text": [
      "100%|████████████████████████████████████████████████████████████████████████| 970151/970151 [02:24<00:00, 6719.42it/s]\n"
     ]
    },
    {
     "name": "stdout",
     "output_type": "stream",
     "text": [
      "loading completed\n",
      "58086 questions before filtering\n",
      "57437 questions after filtering\n",
      "load dataset\n"
     ]
    },
    {
     "name": "stderr",
     "output_type": "stream",
     "text": [
      "100%|██████████████████████████████████████████████████████████████████████████| 57437/57437 [00:19<00:00, 2922.05it/s]\n"
     ]
    }
   ],
   "source": [
    "train_dataset = envqa_dataset.VQAFeatureDataset('train', questions, anno_root=\"data/\", \n",
    "                                                  img_root=\"data/\", \n",
    "                                                  video_annotation=\"env_qa_video_annotations_v1.json\",\n",
    "                                                  predict_segment=\"env_qa_full_predicted_segment.json\",\n",
    "                                                  img_file='env_qa_objects.h5', max_frame=400, max_obj=30,\n",
    "                                                  max_q_len=24, max_a_len=11, batch_size=30, if_gt_vision=False)"
   ]
  },
  {
   "cell_type": "markdown",
   "id": "21ceda74",
   "metadata": {
    "ExecuteTime": {
     "end_time": "2022-05-31T16:48:31.532912Z",
     "start_time": "2022-05-31T16:48:31.528730Z"
    }
   },
   "source": [
    "### Get Batch"
   ]
  },
  {
   "cell_type": "code",
   "execution_count": 5,
   "id": "e86bf87b",
   "metadata": {
    "ExecuteTime": {
     "end_time": "2022-06-01T06:54:24.764599Z",
     "start_time": "2022-06-01T06:54:24.750415Z"
    }
   },
   "outputs": [],
   "source": [
    "train_loader = torch.utils.data.DataLoader(train_dataset, batch_size=batch_size, shuffle=False,\n",
    "                                           num_workers=0)"
   ]
  },
  {
   "cell_type": "code",
   "execution_count": 6,
   "id": "c2665b3b",
   "metadata": {
    "ExecuteTime": {
     "end_time": "2022-06-01T06:54:25.341777Z",
     "start_time": "2022-06-01T06:54:24.766264Z"
    }
   },
   "outputs": [],
   "source": [
    "data_iter = iter(train_loader)\n",
    "batch = next(data_iter)"
   ]
  },
  {
   "cell_type": "markdown",
   "id": "d6075378",
   "metadata": {},
   "source": [
    "### Decode object name"
   ]
  },
  {
   "cell_type": "code",
   "execution_count": 8,
   "id": "c91d1aea",
   "metadata": {
    "ExecuteTime": {
     "end_time": "2022-06-01T06:54:29.368826Z",
     "start_time": "2022-06-01T06:54:29.355606Z"
    }
   },
   "outputs": [],
   "source": [
    "import h5py"
   ]
  },
  {
   "cell_type": "code",
   "execution_count": 9,
   "id": "18c9cb7a",
   "metadata": {
    "ExecuteTime": {
     "end_time": "2022-06-01T06:54:30.249343Z",
     "start_time": "2022-06-01T06:54:30.232163Z"
    }
   },
   "outputs": [
    {
     "name": "stdout",
     "output_type": "stream",
     "text": [
      "[120, 71, 0]\n"
     ]
    },
    {
     "data": {
      "text/plain": [
       "['counter', 'top', '<UNK>']"
      ]
     },
     "execution_count": 9,
     "metadata": {},
     "output_type": "execute_result"
    }
   ],
   "source": [
    "# load object name file\n",
    "object_labels = h5py.File(\"data/env_qa_frame_obj_cls.h5\", \"r\")\n",
    "\n",
    "# get an example\n",
    "object_ids = [int(ix) for ix in object_labels['labels'][0][0]]\n",
    "print(object_ids)\n",
    "\n",
    "# use the provided dictionary to decode the object name\n",
    "train_dataset.dict['obj_word_dict'].decodeSeq(object_ids)"
   ]
  },
  {
   "cell_type": "markdown",
   "id": "1f7eae8c",
   "metadata": {},
   "source": [
    "### Transform an answer to role value format\n",
    "the dataloader has already achived this function"
   ]
  },
  {
   "cell_type": "code",
   "execution_count": 10,
   "id": "c3f6237d",
   "metadata": {
    "ExecuteTime": {
     "end_time": "2022-06-01T06:54:31.612980Z",
     "start_time": "2022-06-01T06:54:31.603084Z"
    }
   },
   "outputs": [
    {
     "name": "stdout",
     "output_type": "stream",
     "text": [
      "putting paper towel roll near counter top\n"
     ]
    },
    {
     "data": {
      "text/plain": [
       "{'action': 'putting',\n",
       " 'subjects': 'paper towel roll',\n",
       " 'prep': 'near',\n",
       " 'objects': 'counter top',\n",
       " 'state': 'NONE',\n",
       " 'yes/no': 'NONE',\n",
       " 'order': 'NONE',\n",
       " 'number': 'NONE'}"
      ]
     },
     "execution_count": 10,
     "metadata": {},
     "output_type": "execute_result"
    }
   ],
   "source": [
    "print(questions[0]['answer'])\n",
    "train_dataset.answer_to_role_value(questions[0]['answer'])"
   ]
  },
  {
   "cell_type": "markdown",
   "id": "a7ea4a8c",
   "metadata": {},
   "source": [
    "### Evaluation"
   ]
  },
  {
   "cell_type": "code",
   "execution_count": 1,
   "id": "488bebed",
   "metadata": {
    "ExecuteTime": {
     "end_time": "2022-07-22T07:36:59.004963Z",
     "start_time": "2022-07-22T07:36:56.642379Z"
    }
   },
   "outputs": [],
   "source": [
    "import json\n",
    "from eval_env_qa import EnvQAEval"
   ]
  },
  {
   "cell_type": "code",
   "execution_count": 9,
   "id": "5ebb0939",
   "metadata": {
    "ExecuteTime": {
     "end_time": "2022-07-22T07:38:25.649825Z",
     "start_time": "2022-07-22T07:38:25.631673Z"
    }
   },
   "outputs": [],
   "source": [
    "prediction = [{'question_id': 'FloorPlan325_physics_34_1Step_02_02',\n",
    "              'answer': 'moving vase to side table'},\n",
    "              {'question_id': 'FloorPlan206_physics_37_04',\n",
    "               'answer': 'throwing vase'}]\n",
    "\n",
    "# load test_full_question.json or test_full_question.json for evaluating the performance on test or val set\n",
    "gt = [{'answer': 'moving vase to side table',\n",
    "       'video_id': 'FloorPlan325_physics_34_1Step_02',\n",
    "       'question': 'what happend in the video',\n",
    "       'question_type': 'QueryEvent',\n",
    "       'question_id': 'FloorPlan325_physics_34_1Step_02_02'},\n",
    "      {'answer': 'breaking vase',\n",
    "       'video_id': 'FloorPlan206_physics_37',\n",
    "       'question': 'what happened, after throwing remote control to break television and before throwing bowl to break window',\n",
    "       'question_id': 'FloorPlan206_physics_37_04',\n",
    "       'question_type': 'QueryEvent'}\n",
    "      ]"
   ]
  },
  {
   "cell_type": "code",
   "execution_count": 10,
   "id": "68707eac",
   "metadata": {
    "ExecuteTime": {
     "end_time": "2022-07-22T07:38:28.181484Z",
     "start_time": "2022-07-22T07:38:28.168887Z"
    }
   },
   "outputs": [],
   "source": [
    "tsea_evalutor = EnvQAEval(gt, prediction)"
   ]
  },
  {
   "cell_type": "code",
   "execution_count": 11,
   "id": "a6b4cfb2",
   "metadata": {
    "ExecuteTime": {
     "end_time": "2022-07-22T07:38:28.545698Z",
     "start_time": "2022-07-22T07:38:28.534923Z"
    }
   },
   "outputs": [
    {
     "name": "stderr",
     "output_type": "stream",
     "text": [
      "100%|██████████████████████████████████████████████████████████████████████████████████| 2/2 [00:00<00:00, 1008.25it/s]\n"
     ]
    },
    {
     "name": "stdout",
     "output_type": "stream",
     "text": [
      "0.7500\n"
     ]
    }
   ],
   "source": [
    "tsea_evalutor.evaluate()"
   ]
  }
 ],
 "metadata": {
  "kernelspec": {
   "display_name": "Python 3",
   "language": "python",
   "name": "python3"
  },
  "language_info": {
   "codemirror_mode": {
    "name": "ipython",
    "version": 3
   },
   "file_extension": ".py",
   "mimetype": "text/x-python",
   "name": "python",
   "nbconvert_exporter": "python",
   "pygments_lexer": "ipython3",
   "version": "3.8.8"
  },
  "toc": {
   "base_numbering": 1,
   "nav_menu": {},
   "number_sections": true,
   "sideBar": true,
   "skip_h1_title": false,
   "title_cell": "Table of Contents",
   "title_sidebar": "Contents",
   "toc_cell": false,
   "toc_position": {},
   "toc_section_display": true,
   "toc_window_display": false
  }
 },
 "nbformat": 4,
 "nbformat_minor": 5
}
